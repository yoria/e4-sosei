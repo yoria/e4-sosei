{
  "nbformat": 4,
  "nbformat_minor": 0,
  "metadata": {
    "colab": {
      "name": "2nen3nen.ipynb のコピー のコピー のコピー のコピー",
      "provenance": [],
      "collapsed_sections": [],
      "include_colab_link": true
    },
    "kernelspec": {
      "name": "python3",
      "display_name": "Python 3"
    },
    "language_info": {
      "name": "python"
    }
  },
  "cells": [
    {
      "cell_type": "markdown",
      "metadata": {
        "id": "view-in-github",
        "colab_type": "text"
      },
      "source": [
        "<a href=\"https://colab.research.google.com/github/h30e07/E4sosei/blob/main/2nen3nen.ipynb\" target=\"_parent\"><img src=\"https://colab.research.google.com/assets/colab-badge.svg\" alt=\"Open In Colab\"/></a>"
      ]
    },
    {
      "cell_type": "markdown",
      "metadata": {
        "id": "RwMsACFaMhEJ"
      },
      "source": [
        "# similarityの算出方法\n",
        "\n",
        "$$\n",
        "similarity = {\\sum_{w_a\\in{(A-A\\cap{B})}}}\\;{\\sum_{w_b\\in{(B-A\\cap{B})}}}f(w_a, w_b)\n",
        "\\\\A:シラバスAに現れる全単語の集合,\n",
        "\\\\B:シラバスBに現れる全単語の集合,\n",
        "\\\\f(w_a, w_b):単語w_aと単語w_bの関連度合いを-1～1の値で返す関数,\n",
        "$$\n"
      ]
    },
    {
      "cell_type": "markdown",
      "metadata": {
        "id": "3YU7XERuuTF8"
      },
      "source": [
        "# Google Drive マウント\n",
        "（一番最初にこれを実行してください）"
      ]
    },
    {
      "cell_type": "code",
      "metadata": {
        "id": "nbSi52W9t5HV",
        "colab": {
          "base_uri": "https://localhost:8080/"
        },
        "outputId": "f9bb5614-c7a2-4159-964c-1cba91b97577"
      },
      "source": [
        "from google.colab import drive\n",
        "drive.mount('/content/drive')"
      ],
      "execution_count": null,
      "outputs": [
        {
          "output_type": "stream",
          "name": "stdout",
          "text": [
            "Mounted at /content/drive\n"
          ]
        }
      ]
    },
    {
      "cell_type": "markdown",
      "metadata": {
        "id": "W2JG2u0PBTlk"
      },
      "source": [
        "# メインプログラムに使用している関数一覧 \n",
        "(メインプログラムを実行する前にこれらの関数を全て実行してください。\n",
        "これらの関数全てにおいて、左にチェックマークが付けばOKです）"
      ]
    },
    {
      "cell_type": "code",
      "metadata": {
        "id": "UvtP8818BMl6"
      },
      "source": [
        "import numpy as np\n",
        "import pandas as pd\n",
        "import matplotlib.pyplot as plt\n",
        "\n",
        "def show_distribution(list1):\n",
        "  \"\"\"\n",
        "  分布を可視化（グラフ）する関数\n",
        "\n",
        "  Parameters\n",
        "  ----------\n",
        "  list1 : list\n",
        "    単語同士の全組み合わせとその関連性が格納されたリスト\n",
        "  \"\"\"\n",
        "  \n",
        "  output = {}\n",
        "  similarity_list = [d.get('similarity') for d in list1]\n",
        "  bins = np.arange(-1, 1, 0.1) # 等差数列\n",
        "  sr = pd.Series(similarity_list)\n",
        "  sr1 = pd.cut(sr, bins=bins)\n",
        "  vc = sr1.value_counts(sort=False)\n",
        "  y, ind, pacthes = plt.hist(sr,bins = bins.size-2, range =(-1,1))\n",
        "  print('y', y)\n",
        "  print('ind', ind)\n",
        "  plt.show()\n",
        "  return y.tolist()"
      ],
      "execution_count": null,
      "outputs": []
    },
    {
      "cell_type": "code",
      "metadata": {
        "id": "87HtCofBc8HF"
      },
      "source": [
        "def get_similarity(combination_list, sa_words_count, sb_words_count):\n",
        "  \"\"\"\n",
        "  Parameters\n",
        "  ----------\n",
        "  combination_list : list\n",
        "    単語同士の全組み合わせとその関連性が格納されたリスト\n",
        "  sa_words_count : int\n",
        "    シラバスaの前処理後の単語数\n",
        "  sb_words_count : int\n",
        "    シラバスbの前処理後の単語数\n",
        "  \"\"\"\n",
        "  \n",
        "  output = 0\n",
        "  for  combination in combination_list:\n",
        "    output += combination['similarity']\n",
        "  output /= (sa_words_count * sb_words_count)\n",
        "  return output"
      ],
      "execution_count": null,
      "outputs": []
    },
    {
      "cell_type": "code",
      "metadata": {
        "id": "zymHKOoHdB1l"
      },
      "source": [
        "def get_combination_list(sa_words, sb_words):\n",
        "  \"\"\"\n",
        "  Parameters\n",
        "  ----------\n",
        "  sa_words : list\n",
        "    シラバスaの前処理後の単語リスト\n",
        "  sb_words : list\n",
        "    シラバスbの前処理後の単語リスト\n",
        "  \"\"\"\n",
        "  \n",
        "  output = []\n",
        "  for a in sa_words:\n",
        "    for b in sb_words:\n",
        "      try:\n",
        "        output.append({'word1': a,'word2': b, 'similarity': float(w2v_model.similarity(a, b))})\n",
        "      except KeyError:\n",
        "         pass\n",
        "  return output"
      ],
      "execution_count": null,
      "outputs": []
    },
    {
      "cell_type": "code",
      "metadata": {
        "id": "TwxuDoIRdEM9"
      },
      "source": [
        "def get_excerpted_info(combination_list):\n",
        "  \"\"\"\n",
        "  combination_listはあまりにもデータ数が多く見ずらいため、\n",
        "  それから大事な情報を抜粋した辞書を返す。\n",
        "  excerpted 抜粋した。\n",
        "\n",
        "  Parameters\n",
        "  ----------\n",
        "  combination_list : list\n",
        "    単語同士の全組み合わせとその関連性が格納されたリスト\n",
        "  \"\"\"\n",
        "\n",
        "  output = {\n",
        "      'combination_sum': len(combination_list),\n",
        "      'min_similarity_value': combination_list[-1]['similarity'],\n",
        "      'max_similarity_value': combination_list[0]['similarity'],\n",
        "      'distribution': show_distribution(combination_list)\n",
        "  }\n",
        "  return output"
      ],
      "execution_count": null,
      "outputs": []
    },
    {
      "cell_type": "code",
      "metadata": {
        "id": "sgmDjkftdTQb"
      },
      "source": [
        "def syllabus_similarity(sa_path, sb_path):\n",
        "  \"\"\"\n",
        "  メイン関数。\n",
        "  入力の2つのファイルから求められたあらゆるデータは変数outputに格納される。\n",
        "\n",
        "  Parameters\n",
        "  ----------\n",
        "  sa_path : string\n",
        "    シラバスaの形態素解析済みのファイルのパス\n",
        "  sb_path : string\n",
        "    シラバスbの形態素解析済みのファイルのパス\n",
        "  \"\"\"\n",
        "\n",
        "  output = {\n",
        "    'subject_combination': [sa_path, sb_path],\n",
        "    'similarity': 0,\n",
        "    'excerpted_info': [],\n",
        "    'combination_list': [],\n",
        "  }\n",
        "  sa = {\n",
        "      'path': sa_path,\n",
        "      'words': [],\n",
        "      'words_set': {},\n",
        "      'remained_set': {},\n",
        "  }\n",
        "  sb = {\n",
        "      'path': sb_path,\n",
        "      'words': [],\n",
        "      'words_set': {},\n",
        "      'remained_set': {},\n",
        "  }\n",
        "  with open(sa['path']) as s1:\n",
        "    sa['words'] = s1.read()\n",
        "  \n",
        "  with open(sb['path']) as s2:\n",
        "    sb['words'] = s2.read()\n",
        "  \n",
        "  # 前処理\n",
        "  sa['words_set'] = set(sa['words'].split())\n",
        "  sb['words_set'] = set(sb['words'].split())\n",
        "  sa['remained_set'] = sa['words_set'] - (sa['words_set'] & sb['words_set'])\n",
        "  sb['remained_set'] = sb['words_set'] - (sa['words_set'] & sb['words_set'])\n",
        "  print('sa', sa['remained_set'])\n",
        "  print('sb', sb['remained_set'])\n",
        "\n",
        "  # 本処理\n",
        "  similarity_sum = 0\n",
        "  if len(sa['remained_set']) != 0  and len(sb['remained_set']) != 0:   # 2つが部分集合出ないとき\n",
        "    output['combination_list'] = get_combination_list(sa['remained_set'], sb['remained_set']) # combination_listに単語組み合わせとその単語同士の関連性を代入 ここではまだsimilarityの計算をしない\n",
        "    output['combination_list'] = sorted(output['combination_list'], key=lambda x: x['similarity'], reverse=True)\n",
        "    output['similarity'] = get_similarity(output['combination_list'], len(sa['remained_set']), len(sb['remained_set'])) # combination_listからsimilarityを求める\n",
        "    output['excerpted_info'] = get_excerpted_info(output['combination_list'])\n",
        "  else:\n",
        "    output['similarity'] = 1\n",
        "  \n",
        "  print('output', output)\n",
        "  return output"
      ],
      "execution_count": null,
      "outputs": []
    },
    {
      "cell_type": "markdown",
      "metadata": {
        "id": "SfiLqcELZXwt"
      },
      "source": [
        "# メインプログラム　AかつBの単語を取り除く(0かける)\n",
        "（準備ができたらこれを実行してください）\n"
      ]
    },
    {
      "cell_type": "code",
      "metadata": {
        "id": "F8maTfpRZCMO"
      },
      "source": [
        "from gensim.models.word2vec import Word2Vec\n",
        "import glob\n",
        "from google.colab import files\n",
        "import csv\n",
        "import json\n",
        "\n",
        "if __name__ == '__main__':\n",
        "  output = []\n",
        "  w2v_model_path = '/content/drive/MyDrive/sosei/Pre-Trained Word2Vec Models/latest-ja-word2vec-gensim-model/word2vec.gensim.model'\n",
        "  syllabus_path = [\n",
        "    '/content/drive/MyDrive/sosei/meishi/meishi_3電気回路ⅠA(2078).txt',\n",
        "    '/content/drive/MyDrive/sosei/meishi/meishi_3電気回路ⅠB(2079).txt',\n",
        "    '/content/drive/MyDrive/sosei/meishi/meishi_2微分積分学ⅠA(0018).txt'\n",
        "  ]\n",
        "  w2v_model = Word2Vec.load(w2v_model_path)\n",
        "  output.append(syllabus_similarity(syllabus_path[0], syllabus_path[0]))\n",
        "  output.append(syllabus_similarity(syllabus_path[0], syllabus_path[1]))\n",
        "  output.append(syllabus_similarity(syllabus_path[0], syllabus_path[2]))\n",
        "\n",
        "  ### このプログラムを実行して得られた全てのデータをファイル出力 ###\n",
        "  with open(f\"/content/drive/MyDrive/sosei/result_data/v2.json\", 'w') as f:\n",
        "    json.dump(output, f, indent=2, ensure_ascii=False)"
      ],
      "execution_count": null,
      "outputs": []
    }
  ]
}