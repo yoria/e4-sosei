{
  "nbformat": 4,
  "nbformat_minor": 0,
  "metadata": {
    "colab": {
      "name": "Func3.ipynb",
      "provenance": [],
      "collapsed_sections": [],
      "include_colab_link": true
    },
    "kernelspec": {
      "name": "python3",
      "display_name": "Python 3"
    },
    "language_info": {
      "name": "python"
    }
  },
  "cells": [
    {
      "cell_type": "markdown",
      "metadata": {
        "id": "view-in-github",
        "colab_type": "text"
      },
      "source": [
        "<a href=\"https://colab.research.google.com/github/h30e07/E4sosei/blob/main/get_accuracy_function.ipynb\" target=\"_parent\"><img src=\"https://colab.research.google.com/assets/colab-badge.svg\" alt=\"Open In Colab\"/></a>"
      ]
    },
    {
      "cell_type": "markdown",
      "metadata": {
        "id": "N5SXMi6dcyFI"
      },
      "source": [
        "# Google Drive マウント\n",
        "（一番最初にこれを実行してください）"
      ]
    },
    {
      "cell_type": "code",
      "metadata": {
        "colab": {
          "base_uri": "https://localhost:8080/"
        },
        "id": "_214qFvrc85d",
        "outputId": "a15f5b9b-5ee7-4ddf-f6a5-6e1e9e3649a8"
      },
      "source": [
        "from google.colab import drive\n",
        "drive.mount('/content/drive')"
      ],
      "execution_count": null,
      "outputs": [
        {
          "output_type": "stream",
          "name": "stdout",
          "text": [
            "Mounted at /content/drive\n"
          ]
        }
      ]
    },
    {
      "cell_type": "markdown",
      "metadata": {
        "id": "YdfdTq8lK_AH"
      },
      "source": [
        "# JSONの実験結果のファイルを読み取り、精度を出す（まだ途中）"
      ]
    },
    {
      "cell_type": "code",
      "metadata": {
        "colab": {
          "base_uri": "https://localhost:8080/"
        },
        "id": "9zLtSKPPK-fo",
        "outputId": "00080454-4d88-4ae8-9cfc-1dc261eb9653"
      },
      "source": [
        "def get_accuracy(json_path):\n",
        "    \"\"\"\n",
        "    JSONの実験結果のファイルを読み取り、精度を出す。\n",
        "    JSONファイルのデータ構造に依存している。\n",
        "    \"\"\"\n",
        "    import csv\n",
        "    import pprint\n",
        "    import json\n",
        "\n",
        "    accuracy = 0\n",
        "    CSV_PATH = \"/content/drive/MyDrive/sosei/カリキュラムマップ_平坦化.csv\"\n",
        "    seikai = []\n",
        "    with open(CSV_PATH) as f:\n",
        "        reader = csv.reader(f)\n",
        "        for row in reader:\n",
        "            if row[1] == 'from' and row[2] == 'to':\n",
        "                continue\n",
        "            seikai.append(row[1:3])\n",
        "    pprint.pprint(seikai)\n",
        "    print(len(seikai))\n",
        "\n",
        "    json_open = open(json_path, 'r')\n",
        "    json_load = json.load(json_open)\n",
        "    \n",
        "    for combination in json_load:\n",
        "        combination\n",
        "get_accuracy('d')"
      ],
      "execution_count": null,
      "outputs": [
        {
          "output_type": "stream",
          "name": "stdout",
          "text": [
            "[['プログラミング', 'コンピュータグラフィクス'],\n",
            " ['プログラミング', 'プログラミングⅡ'],\n",
            " ['電気基礎', '電気基礎Ⅱ'],\n",
            " ['基礎数学F', 'メカニズム設計概論'],\n",
            " ['基礎数学E', 'ディジタル回路ⅠA'],\n",
            " ['力学', '力学Ⅱ'],\n",
            " ['線形代数A', 'エネルギー変換工学A'],\n",
            " ['線形代数A', 'エネルギー変換工学B'],\n",
            " ['線形代数A', '電磁気学Ⅰ'],\n",
            " ['線形代数B', 'コンピュータグラフィクス'],\n",
            " ['微分積分学ⅠA', '電磁気学Ⅰ'],\n",
            " ['微分積分学ⅠB', '電磁気学Ⅰ'],\n",
            " ['微分積分学ⅠB', '応用物理ⅠA'],\n",
            " ['力学Ⅱ', '電磁気学Ⅰ'],\n",
            " ['プログラミングⅡ', 'ロボットエレクトロニクス'],\n",
            " ['電気基礎Ⅱ', '電気回路ⅠA'],\n",
            " ['電気基礎Ⅱ', '電気回路ⅠB'],\n",
            " ['電気基礎Ⅱ', '電磁気学Ⅰ'],\n",
            " ['電気基礎Ⅱ', 'エネルギー変換工学A'],\n",
            " ['電気基礎Ⅱ', 'エネルギー変換工学B'],\n",
            " ['微分積分学ⅡB', '電磁気学Ⅰ'],\n",
            " ['応用物理ⅠA', 'メカニズム設計概論'],\n",
            " ['電気回路ⅠA', 'エネルギー変換工学A'],\n",
            " ['電気回路ⅠB', 'エネルギー変換工学A'],\n",
            " ['電気回路ⅠB', 'エネルギー変換工学B']]\n",
            "25\n"
          ]
        }
      ]
    }
  ]
}